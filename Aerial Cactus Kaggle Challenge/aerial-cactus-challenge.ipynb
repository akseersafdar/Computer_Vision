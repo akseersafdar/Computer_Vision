{
 "cells": [
  {
   "cell_type": "markdown",
   "metadata": {},
   "source": [
    "# Aerial Cactus Challenge"
   ]
  },
  {
   "cell_type": "markdown",
   "metadata": {},
   "source": [
    "In this kaggle challenge we have to identify if an image contains cactus or not. We will use open cv, CNN, keras to build our model and then train the model on training images.\n",
    "Finally we will make predictions using the model on test images."
   ]
  },
  {
   "cell_type": "code",
   "execution_count": 1,
   "metadata": {
    "_cell_guid": "b1076dfc-b9ad-4769-8c92-a6c4dae69d19",
    "_uuid": "8f2839f25d086af736a60e9eeb907d3b93b6e0e5"
   },
   "outputs": [
    {
     "name": "stderr",
     "output_type": "stream",
     "text": [
      "Using TensorFlow backend.\n"
     ]
    }
   ],
   "source": [
    "#making the imports\n",
    "\n",
    "import pandas as pd\n",
    "import numpy as np\n",
    "\n",
    "import cv2\n",
    "import os\n",
    "import matplotlib.pyplot as plt\n",
    "import seaborn as sns\n",
    "\n",
    "import warnings\n",
    "warnings.filterwarnings('ignore')\n",
    "\n",
    "from keras.models import Sequential\n",
    "from keras.layers import Flatten, Conv2D, MaxPool2D, Activation, Dense, Dropout\n",
    "from keras.optimizers import Adam\n",
    "from keras.preprocessing.image import ImageDataGenerator\n"
   ]
  },
  {
   "cell_type": "code",
   "execution_count": 2,
   "metadata": {
    "_cell_guid": "79c7e3d0-c299-4dcb-8224-4455121ee9b0",
    "_uuid": "d629ff2d2480ee46fbb7e2d37f6b5fab8052498a"
   },
   "outputs": [],
   "source": [
    "#define the directory\n",
    "\n",
    "train_directory=\"../input/train/train\"\n",
    "test_directory=\"../input/test/test\"\n",
    "train=pd.read_csv('../input/train.csv')"
   ]
  },
  {
   "cell_type": "code",
   "execution_count": 3,
   "metadata": {},
   "outputs": [
    {
     "data": {
      "text/html": [
       "<div>\n",
       "<style scoped>\n",
       "    .dataframe tbody tr th:only-of-type {\n",
       "        vertical-align: middle;\n",
       "    }\n",
       "\n",
       "    .dataframe tbody tr th {\n",
       "        vertical-align: top;\n",
       "    }\n",
       "\n",
       "    .dataframe thead th {\n",
       "        text-align: right;\n",
       "    }\n",
       "</style>\n",
       "<table border=\"1\" class=\"dataframe\">\n",
       "  <thead>\n",
       "    <tr style=\"text-align: right;\">\n",
       "      <th></th>\n",
       "      <th>id</th>\n",
       "      <th>has_cactus</th>\n",
       "    </tr>\n",
       "  </thead>\n",
       "  <tbody>\n",
       "    <tr>\n",
       "      <th>0</th>\n",
       "      <td>0004be2cfeaba1c0361d39e2b000257b.jpg</td>\n",
       "      <td>1</td>\n",
       "    </tr>\n",
       "    <tr>\n",
       "      <th>1</th>\n",
       "      <td>000c8a36845c0208e833c79c1bffedd1.jpg</td>\n",
       "      <td>1</td>\n",
       "    </tr>\n",
       "    <tr>\n",
       "      <th>2</th>\n",
       "      <td>000d1e9a533f62e55c289303b072733d.jpg</td>\n",
       "      <td>1</td>\n",
       "    </tr>\n",
       "    <tr>\n",
       "      <th>3</th>\n",
       "      <td>0011485b40695e9138e92d0b3fb55128.jpg</td>\n",
       "      <td>1</td>\n",
       "    </tr>\n",
       "    <tr>\n",
       "      <th>4</th>\n",
       "      <td>0014d7a11e90b62848904c1418fc8cf2.jpg</td>\n",
       "      <td>1</td>\n",
       "    </tr>\n",
       "  </tbody>\n",
       "</table>\n",
       "</div>"
      ],
      "text/plain": [
       "                                     id  has_cactus\n",
       "0  0004be2cfeaba1c0361d39e2b000257b.jpg           1\n",
       "1  000c8a36845c0208e833c79c1bffedd1.jpg           1\n",
       "2  000d1e9a533f62e55c289303b072733d.jpg           1\n",
       "3  0011485b40695e9138e92d0b3fb55128.jpg           1\n",
       "4  0014d7a11e90b62848904c1418fc8cf2.jpg           1"
      ]
     },
     "execution_count": 3,
     "metadata": {},
     "output_type": "execute_result"
    }
   ],
   "source": [
    "#checking the head\n",
    "train.head()"
   ]
  },
  {
   "cell_type": "code",
   "execution_count": 4,
   "metadata": {},
   "outputs": [
    {
     "data": {
      "image/png": "[encoded data removed]",
      "text/plain": [
       "<Figure size 576x432 with 1 Axes>"
      ]
     },
     "metadata": {
      "needs_background": "light"
     },
     "output_type": "display_data"
    }
   ],
   "source": [
    "plt.figure(figsize = (8,6))\n",
    "sns.set_style('dark')\n",
    "sns.countplot(train['has_cactus'])\n",
    "plt.show()"
   ]
  },
  {
   "cell_type": "markdown",
   "metadata": {},
   "source": [
    "So we can see that most of the images in training set have cactus in them. "
   ]
  },
  {
   "cell_type": "code",
   "execution_count": 5,
   "metadata": {},
   "outputs": [
    {
     "data": {
      "image/png": "[encoded data removed]",
      "text/plain": [
       "<Figure size 720x576 with 1 Axes>"
      ]
     },
     "metadata": {},
     "output_type": "display_data"
    }
   ],
   "source": [
    "#lets display a random image from the training set\n",
    "\n",
    "img = cv2.imread('../input/train/train/0148bb4a295cf49c0169d69a4a63df7e.jpg')\n",
    "plt.figure(figsize = (10,8))\n",
    "plt.imshow(img)\n",
    "plt.xticks([])\n",
    "plt.yticks([])\n",
    "plt.show()"
   ]
  },
  {
   "cell_type": "code",
   "execution_count": 6,
   "metadata": {},
   "outputs": [
    {
     "data": {
      "image/png": "[encoded data removed]",
      "text/plain": [
       "<Figure size 720x576 with 1 Axes>"
      ]
     },
     "metadata": {},
     "output_type": "display_data"
    }
   ],
   "source": [
    "#lets display a random image from the training set\n",
    "\n",
    "img = cv2.imread('../input/train/train/0de4702853bd3667fb24db3a8dcc07bd.jpg')\n",
    "plt.figure(figsize = (10,8))\n",
    "plt.imshow(img)\n",
    "plt.xticks([])\n",
    "plt.yticks([])\n",
    "plt.show()"
   ]
  },
  {
   "cell_type": "markdown",
   "metadata": {},
   "source": [
    "The images are low resolution, normally with human eye we will not be able to tell if there is a cactus or not in the image. But let's trust the judement of neural nets to perform this task for us. :-)"
   ]
  },
  {
   "cell_type": "code",
   "execution_count": 7,
   "metadata": {},
   "outputs": [
    {
     "data": {
      "text/plain": [
       "(32, 32, 3)"
      ]
     },
     "execution_count": 7,
     "metadata": {},
     "output_type": "execute_result"
    }
   ],
   "source": [
    "#lets check the shape of image\n",
    "img.shape"
   ]
  },
  {
   "cell_type": "markdown",
   "metadata": {},
   "source": [
    "These are 32 by 32 pixel images (so quite low resolution). Number 3 indicates that these are color images, 1 would denote greyscale image."
   ]
  },
  {
   "cell_type": "markdown",
   "metadata": {},
   "source": [
    "## Data Augmentation\n",
    "\n",
    "Performing Data Augmentation will be done by keras ImageDataGenerator, This is a form of regularization and our model will generalize better.\n",
    "We will rescale so that all values range between 0 and 1. Setting aside 20% data for validation set. Shear range will displace each point in fixed direction. Horizontal flip will randomly flip the image in horizontal direction. "
   ]
  },
  {
   "cell_type": "code",
   "execution_count": 8,
   "metadata": {},
   "outputs": [],
   "source": [
    "#define the parameters for ImageDataGenerator\n",
    "train_datagen = ImageDataGenerator(rescale= 1./255, validation_split= 0.2, shear_range= 0.2, \n",
    "                                  zoom_range= 0.2, horizontal_flip= True)"
   ]
  },
  {
   "cell_type": "code",
   "execution_count": 9,
   "metadata": {},
   "outputs": [],
   "source": [
    "#converting the has_cactus to a string\n",
    "train['has_cactus'] = train['has_cactus'].astype(str)"
   ]
  },
  {
   "cell_type": "code",
   "execution_count": 10,
   "metadata": {},
   "outputs": [
    {
     "name": "stdout",
     "output_type": "stream",
     "text": [
      "Found 14000 validated image filenames belonging to 2 classes.\n",
      "Found 3500 validated image filenames belonging to 2 classes.\n"
     ]
    }
   ],
   "source": [
    "#lets use data generator to make training and validation set.\n",
    "\n",
    "train_generator = train_datagen.flow_from_dataframe(train, \n",
    "                                                    directory= train_directory, \n",
    "                                                    subset= 'training',\n",
    "                                                    x_col= 'id',\n",
    "                                                    y_col= 'has_cactus',\n",
    "                                                    target_size= (32,32),\n",
    "                                                    class_mode= 'binary'\n",
    "                                                   )\n",
    "\n",
    "\n",
    "test_generator = train_datagen.flow_from_dataframe(train,\n",
    "                                                  directory= train_directory,\n",
    "                                                  subset= 'validation',\n",
    "                                                  x_col= 'id',\n",
    "                                                  y_col= 'has_cactus',\n",
    "                                                  target_size= (32,32),\n",
    "                                                  class_mode= 'binary'\n",
    "                                                  )"
   ]
  },
  {
   "cell_type": "markdown",
   "metadata": {},
   "source": [
    "So now we have 14k images for training set and 3.5k images for validation set."
   ]
  },
  {
   "cell_type": "markdown",
   "metadata": {},
   "source": [
    "## Creating the model\n",
    "\n",
    "We will build our CNN model and will use a drop out of 30 % to prevent overfitting. "
   ]
  },
  {
   "cell_type": "code",
   "execution_count": 11,
   "metadata": {},
   "outputs": [],
   "source": [
    "#define the model layers\n",
    "model = Sequential()\n",
    "\n",
    "model.add(Conv2D(32, (3,3), activation = 'relu', input_shape = (32,32,3)))\n",
    "model.add(Conv2D(32, (3,3), activation = 'relu'))\n",
    "model.add(MaxPool2D(2,2))\n",
    "\n",
    "model.add(Conv2D(64, (3,3), activation = 'relu'))\n",
    "model.add(Conv2D(64, (3,3), activation = 'relu'))\n",
    "model.add(MaxPool2D(2,2))\n",
    "\n",
    "model.add(Conv2D(128, (3,3), activation = 'relu'))\n",
    "model.add(MaxPool2D(2,2))\n",
    "\n",
    "model.add(Flatten())\n",
    "model.add(Dense(512, activation = 'relu'))\n",
    "model.add(Dropout(0.3))\n",
    "model.add(Dense(1, activation = 'sigmoid'))\n"
   ]
  },
  {
   "cell_type": "code",
   "execution_count": 12,
   "metadata": {},
   "outputs": [],
   "source": [
    "#lets compile the model\n",
    "\n",
    "model.compile(loss = 'binary_crossentropy',\n",
    "             optimizer= Adam(),\n",
    "             metrics= ['accuracy'])"
   ]
  },
  {
   "cell_type": "code",
   "execution_count": 13,
   "metadata": {},
   "outputs": [
    {
     "name": "stdout",
     "output_type": "stream",
     "text": [
      "_________________________________________________________________\n",
      "Layer (type)                 Output Shape              Param #   \n",
      "=================================================================\n",
      "conv2d_1 (Conv2D)            (None, 30, 30, 32)        896       \n",
      "_________________________________________________________________\n",
      "conv2d_2 (Conv2D)            (None, 28, 28, 32)        9248      \n",
      "_________________________________________________________________\n",
      "max_pooling2d_1 (MaxPooling2 (None, 14, 14, 32)        0         \n",
      "_________________________________________________________________\n",
      "conv2d_3 (Conv2D)            (None, 12, 12, 64)        18496     \n",
      "_________________________________________________________________\n",
      "conv2d_4 (Conv2D)            (None, 10, 10, 64)        36928     \n",
      "_________________________________________________________________\n",
      "max_pooling2d_2 (MaxPooling2 (None, 5, 5, 64)          0         \n",
      "_________________________________________________________________\n",
      "conv2d_5 (Conv2D)            (None, 3, 3, 128)         73856     \n",
      "_________________________________________________________________\n",
      "max_pooling2d_3 (MaxPooling2 (None, 1, 1, 128)         0         \n",
      "_________________________________________________________________\n",
      "flatten_1 (Flatten)          (None, 128)               0         \n",
      "_________________________________________________________________\n",
      "dense_1 (Dense)              (None, 512)               66048     \n",
      "_________________________________________________________________\n",
      "dropout_1 (Dropout)          (None, 512)               0         \n",
      "_________________________________________________________________\n",
      "dense_2 (Dense)              (None, 1)                 513       \n",
      "=================================================================\n",
      "Total params: 205,985\n",
      "Trainable params: 205,985\n",
      "Non-trainable params: 0\n",
      "_________________________________________________________________\n"
     ]
    }
   ],
   "source": [
    "#model summary\n",
    "model.summary()"
   ]
  },
  {
   "cell_type": "markdown",
   "metadata": {},
   "source": [
    "## Train the Model\n",
    "lets do it for 20 epochs for demo. Although this could result in overfitting :-)"
   ]
  },
  {
   "cell_type": "code",
   "execution_count": 14,
   "metadata": {},
   "outputs": [
    {
     "name": "stdout",
     "output_type": "stream",
     "text": [
      "Epoch 1/20\n",
      "2000/2000 [==============================] - 113s 56ms/step - loss: 0.1344 - acc: 0.9471 - val_loss: 0.0689 - val_acc: 0.9756\n",
      "Epoch 2/20\n",
      "2000/2000 [==============================] - 96s 48ms/step - loss: 0.0611 - acc: 0.9779 - val_loss: 0.1075 - val_acc: 0.9620\n",
      "Epoch 3/20\n",
      "2000/2000 [==============================] - 93s 46ms/step - loss: 0.0470 - acc: 0.9835 - val_loss: 0.0514 - val_acc: 0.9824\n",
      "Epoch 4/20\n",
      "2000/2000 [==============================] - 93s 47ms/step - loss: 0.0376 - acc: 0.9864 - val_loss: 0.0590 - val_acc: 0.9763\n",
      "Epoch 5/20\n",
      "2000/2000 [==============================] - 94s 47ms/step - loss: 0.0330 - acc: 0.9882 - val_loss: 0.0853 - val_acc: 0.9707\n",
      "Epoch 6/20\n",
      " 600/2000 [========>.....................] - ETA: 1:03 - loss: 0.0288 - acc: 0.9892"
     ]
    }
   ],
   "source": [
    "#lets train the model for 20 epochs\n",
    "\n",
    "history = model.fit_generator(train_generator,\n",
    "                             steps_per_epoch= 2000, \n",
    "                             epochs= 20, \n",
    "                             validation_data= test_generator,\n",
    "                             validation_steps= 64)"
   ]
  },
  {
   "cell_type": "code",
   "execution_count": 15,
   "metadata": {},
   "outputs": [
    {
     "data": {
      "text/html": [
       "<div>\n",
       "<style scoped>\n",
       "    .dataframe tbody tr th:only-of-type {\n",
       "        vertical-align: middle;\n",
       "    }\n",
       "\n",
       "    .dataframe tbody tr th {\n",
       "        vertical-align: top;\n",
       "    }\n",
       "\n",
       "    .dataframe thead th {\n",
       "        text-align: right;\n",
       "    }\n",
       "</style>\n",
       "<table border=\"1\" class=\"dataframe\">\n",
       "  <thead>\n",
       "    <tr style=\"text-align: right;\">\n",
       "      <th></th>\n",
       "      <th>val_loss</th>\n",
       "      <th>val_acc</th>\n",
       "      <th>loss</th>\n",
       "      <th>acc</th>\n",
       "      <th>epoch</th>\n",
       "    </tr>\n",
       "  </thead>\n",
       "  <tbody>\n",
       "    <tr>\n",
       "      <th>0</th>\n",
       "      <td>0.068879</td>\n",
       "      <td>0.975586</td>\n",
       "      <td>0.134466</td>\n",
       "      <td>0.947010</td>\n",
       "      <td>0</td>\n",
       "    </tr>\n",
       "    <tr>\n",
       "      <th>1</th>\n",
       "      <td>0.107450</td>\n",
       "      <td>0.962032</td>\n",
       "      <td>0.061078</td>\n",
       "      <td>0.977941</td>\n",
       "      <td>1</td>\n",
       "    </tr>\n",
       "    <tr>\n",
       "      <th>2</th>\n",
       "      <td>0.051354</td>\n",
       "      <td>0.982422</td>\n",
       "      <td>0.046964</td>\n",
       "      <td>0.983577</td>\n",
       "      <td>2</td>\n",
       "    </tr>\n",
       "    <tr>\n",
       "      <th>3</th>\n",
       "      <td>0.058973</td>\n",
       "      <td>0.976331</td>\n",
       "      <td>0.037688</td>\n",
       "      <td>0.986342</td>\n",
       "      <td>3</td>\n",
       "    </tr>\n",
       "    <tr>\n",
       "      <th>4</th>\n",
       "      <td>0.085329</td>\n",
       "      <td>0.970703</td>\n",
       "      <td>0.033038</td>\n",
       "      <td>0.988238</td>\n",
       "      <td>4</td>\n",
       "    </tr>\n",
       "    <tr>\n",
       "      <th>5</th>\n",
       "      <td>0.030365</td>\n",
       "      <td>0.989645</td>\n",
       "      <td>0.027114</td>\n",
       "      <td>0.990081</td>\n",
       "      <td>5</td>\n",
       "    </tr>\n",
       "    <tr>\n",
       "      <th>6</th>\n",
       "      <td>0.042315</td>\n",
       "      <td>0.989645</td>\n",
       "      <td>0.027903</td>\n",
       "      <td>0.989630</td>\n",
       "      <td>6</td>\n",
       "    </tr>\n",
       "    <tr>\n",
       "      <th>7</th>\n",
       "      <td>0.036679</td>\n",
       "      <td>0.987793</td>\n",
       "      <td>0.021032</td>\n",
       "      <td>0.992850</td>\n",
       "      <td>7</td>\n",
       "    </tr>\n",
       "    <tr>\n",
       "      <th>8</th>\n",
       "      <td>0.036517</td>\n",
       "      <td>0.988166</td>\n",
       "      <td>0.020593</td>\n",
       "      <td>0.992365</td>\n",
       "      <td>8</td>\n",
       "    </tr>\n",
       "    <tr>\n",
       "      <th>9</th>\n",
       "      <td>0.029294</td>\n",
       "      <td>0.992676</td>\n",
       "      <td>0.019983</td>\n",
       "      <td>0.992993</td>\n",
       "      <td>9</td>\n",
       "    </tr>\n",
       "    <tr>\n",
       "      <th>10</th>\n",
       "      <td>0.068379</td>\n",
       "      <td>0.980276</td>\n",
       "      <td>0.018250</td>\n",
       "      <td>0.993414</td>\n",
       "      <td>10</td>\n",
       "    </tr>\n",
       "    <tr>\n",
       "      <th>11</th>\n",
       "      <td>0.045862</td>\n",
       "      <td>0.983887</td>\n",
       "      <td>0.016852</td>\n",
       "      <td>0.993822</td>\n",
       "      <td>11</td>\n",
       "    </tr>\n",
       "    <tr>\n",
       "      <th>12</th>\n",
       "      <td>0.049504</td>\n",
       "      <td>0.990138</td>\n",
       "      <td>0.017170</td>\n",
       "      <td>0.993664</td>\n",
       "      <td>12</td>\n",
       "    </tr>\n",
       "    <tr>\n",
       "      <th>13</th>\n",
       "      <td>0.050995</td>\n",
       "      <td>0.988659</td>\n",
       "      <td>0.015339</td>\n",
       "      <td>0.994635</td>\n",
       "      <td>13</td>\n",
       "    </tr>\n",
       "    <tr>\n",
       "      <th>14</th>\n",
       "      <td>0.045698</td>\n",
       "      <td>0.987305</td>\n",
       "      <td>0.013035</td>\n",
       "      <td>0.995526</td>\n",
       "      <td>14</td>\n",
       "    </tr>\n",
       "    <tr>\n",
       "      <th>15</th>\n",
       "      <td>0.043434</td>\n",
       "      <td>0.988166</td>\n",
       "      <td>0.014341</td>\n",
       "      <td>0.995150</td>\n",
       "      <td>15</td>\n",
       "    </tr>\n",
       "    <tr>\n",
       "      <th>16</th>\n",
       "      <td>0.055994</td>\n",
       "      <td>0.990723</td>\n",
       "      <td>0.011986</td>\n",
       "      <td>0.995887</td>\n",
       "      <td>16</td>\n",
       "    </tr>\n",
       "    <tr>\n",
       "      <th>17</th>\n",
       "      <td>0.051890</td>\n",
       "      <td>0.989152</td>\n",
       "      <td>0.012757</td>\n",
       "      <td>0.995447</td>\n",
       "      <td>17</td>\n",
       "    </tr>\n",
       "    <tr>\n",
       "      <th>18</th>\n",
       "      <td>0.135345</td>\n",
       "      <td>0.975345</td>\n",
       "      <td>0.012471</td>\n",
       "      <td>0.995793</td>\n",
       "      <td>18</td>\n",
       "    </tr>\n",
       "    <tr>\n",
       "      <th>19</th>\n",
       "      <td>0.061223</td>\n",
       "      <td>0.989258</td>\n",
       "      <td>0.012798</td>\n",
       "      <td>0.995776</td>\n",
       "      <td>19</td>\n",
       "    </tr>\n",
       "  </tbody>\n",
       "</table>\n",
       "</div>"
      ],
      "text/plain": [
       "    val_loss   val_acc      loss       acc  epoch\n",
       "0   0.068879  0.975586  0.134466  0.947010      0\n",
       "1   0.107450  0.962032  0.061078  0.977941      1\n",
       "2   0.051354  0.982422  0.046964  0.983577      2\n",
       "3   0.058973  0.976331  0.037688  0.986342      3\n",
       "4   0.085329  0.970703  0.033038  0.988238      4\n",
       "5   0.030365  0.989645  0.027114  0.990081      5\n",
       "6   0.042315  0.989645  0.027903  0.989630      6\n",
       "7   0.036679  0.987793  0.021032  0.992850      7\n",
       "8   0.036517  0.988166  0.020593  0.992365      8\n",
       "9   0.029294  0.992676  0.019983  0.992993      9\n",
       "10  0.068379  0.980276  0.018250  0.993414     10\n",
       "11  0.045862  0.983887  0.016852  0.993822     11\n",
       "12  0.049504  0.990138  0.017170  0.993664     12\n",
       "13  0.050995  0.988659  0.015339  0.994635     13\n",
       "14  0.045698  0.987305  0.013035  0.995526     14\n",
       "15  0.043434  0.988166  0.014341  0.995150     15\n",
       "16  0.055994  0.990723  0.011986  0.995887     16\n",
       "17  0.051890  0.989152  0.012757  0.995447     17\n",
       "18  0.135345  0.975345  0.012471  0.995793     18\n",
       "19  0.061223  0.989258  0.012798  0.995776     19"
      ]
     },
     "execution_count": 15,
     "metadata": {},
     "output_type": "execute_result"
    }
   ],
   "source": [
    "#convert the results to a data frame\n",
    "hist = pd.DataFrame(history.history)\n",
    "hist['epoch'] = history.epoch\n",
    "hist"
   ]
  },
  {
   "cell_type": "markdown",
   "metadata": {},
   "source": [
    "## Plot the Training and Validation Accuracy/Loss\n",
    "\n",
    "See how model tries to overfit after certain epochs. "
   ]
  },
  {
   "cell_type": "code",
   "execution_count": 16,
   "metadata": {},
   "outputs": [
    {
     "data": {
      "image/png": "[encoded data removed]",
      "text/plain": [
       "<Figure size 576x432 with 1 Axes>"
      ]
     },
     "metadata": {},
     "output_type": "display_data"
    },
    {
     "data": {
      "image/png": "[encoded data removed]",
      "text/plain": [
       "<Figure size 576x432 with 1 Axes>"
      ]
     },
     "metadata": {},
     "output_type": "display_data"
    }
   ],
   "source": [
    "#plotting the results to see difference between train and validation accuracy/loss\n",
    "\n",
    "plt.figure(figsize = (8,6))\n",
    "plt.xlabel('Epoch')\n",
    "plt.ylabel('Accuracy')\n",
    "plt.plot(hist['epoch'],hist['val_acc'], label = 'Val Accuracy')\n",
    "plt.plot(hist['epoch'],hist['acc'], label = 'Train Accuracy')\n",
    "plt.xticks(range(0,20))\n",
    "plt.legend(loc = 'lower right')\n",
    "plt.title('Accuracy')\n",
    "plt.show()\n",
    "\n",
    "plt.figure(figsize = (8,6))\n",
    "plt.xlabel('Epoch')\n",
    "plt.ylabel('Loss')\n",
    "plt.plot(hist['epoch'],hist['val_loss'], label = 'Val Loss')\n",
    "plt.plot(hist['epoch'],hist['loss'], label = 'Train Loss')\n",
    "plt.xticks(range(0,20))\n",
    "plt.legend()\n",
    "plt.title('Loss')\n",
    "plt.show()"
   ]
  },
  {
   "cell_type": "markdown",
   "metadata": {},
   "source": [
    "As we can see that after epoch#4 the model starts to overfit. So we may have stopped the training at epoch 4. "
   ]
  },
  {
   "cell_type": "code",
   "execution_count": 17,
   "metadata": {},
   "outputs": [],
   "source": [
    "#getting the test set ready to make predictions\n",
    "\n",
    "ids = []\n",
    "X_test = []\n",
    "\n",
    "for image in os.listdir(test_directory):\n",
    "    \n",
    "    ids.append(image.split('.')[0])\n",
    "    path = os.path.join(test_directory, image)\n",
    "    X_test.append(cv2.imread(path))\n",
    "    \n",
    "X_test = np.array(X_test)\n",
    "X_test = X_test.astype('float32')/ 255"
   ]
  },
  {
   "cell_type": "markdown",
   "metadata": {},
   "source": [
    "## Lets make the predictions"
   ]
  },
  {
   "cell_type": "code",
   "execution_count": 18,
   "metadata": {},
   "outputs": [],
   "source": [
    "#making the predictions\n",
    "predictions = model.predict(X_test)"
   ]
  },
  {
   "cell_type": "code",
   "execution_count": 19,
   "metadata": {},
   "outputs": [],
   "source": [
    "#writing to submission file\n",
    "\n",
    "my_sub = pd.read_csv('../input/sample_submission.csv')\n",
    "my_sub['id'] = ids\n",
    "my_sub['has_cactus'] = predictions"
   ]
  },
  {
   "cell_type": "code",
   "execution_count": 20,
   "metadata": {},
   "outputs": [],
   "source": [
    "#convert the probability to 0s and ones. \n",
    "def cvt_prob(x):\n",
    "    \n",
    "    if x >= 0.5:\n",
    "        return 1\n",
    "    else:\n",
    "        return 0\n",
    "    \n",
    "my_sub['has_cactus'] = my_sub['has_cactus'].apply(cvt_prob)    "
   ]
  },
  {
   "cell_type": "code",
   "execution_count": 21,
   "metadata": {},
   "outputs": [
    {
     "data": {
      "image/png": "[encoded data removed]",
      "text/plain": [
       "<Figure size 576x432 with 1 Axes>"
      ]
     },
     "metadata": {},
     "output_type": "display_data"
    }
   ],
   "source": [
    "#see the count of 0s and 1s \n",
    "plt.figure(figsize = (8,6))\n",
    "sns.set_style('dark')\n",
    "sns.countplot(my_sub['has_cactus'])\n",
    "plt.show()"
   ]
  },
  {
   "cell_type": "markdown",
   "metadata": {},
   "source": [
    "So as we had more images in training set with cactus in them so is the case with test set as well."
   ]
  },
  {
   "cell_type": "code",
   "execution_count": 22,
   "metadata": {},
   "outputs": [],
   "source": [
    "#write to submission file\n",
    "my_sub.to_csv('my_sub1.csv',index= False)"
   ]
  },
  {
   "cell_type": "markdown",
   "metadata": {},
   "source": [
    "This is a pretty decent model with good accuracy. In colclusion we can say that;\n",
    "\n",
    "**Scaling** is necessary to bring all of your features on to a similar scale so that your model should give equal attention to all the features. \n",
    "Adding more layers to build a complex model could give good accuracy on training data as model would try to memorize the training data and will not give desired performance on test data **(overfitting)**. \n",
    "Train for **less epochs** as more epochs will result in **overfitting**. \n",
    "Also use the Dropout to prevent **overfitting**. \n",
    "\n"
   ]
  }
 ],
 "metadata": {
  "kernelspec": {
   "display_name": "Python 3",
   "language": "python",
   "name": "python3"
  },
  "language_info": {
   "codemirror_mode": {
    "name": "ipython",
    "version": 3
   },
   "file_extension": ".py",
   "mimetype": "text/x-python",
   "name": "python",
   "nbconvert_exporter": "python",
   "pygments_lexer": "ipython3",
   "version": "3.6.6"
  }
 },
 "nbformat": 4,
 "nbformat_minor": 1
}
